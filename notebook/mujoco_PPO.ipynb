{
 "cells": [
  {
   "cell_type": "code",
   "execution_count": 1,
   "id": "c88cc451",
   "metadata": {
    "ExecuteTime": {
     "end_time": "2022-02-25T02:28:10.891788Z",
     "start_time": "2022-02-25T02:28:10.880656Z"
    }
   },
   "outputs": [
    {
     "data": {
      "text/html": [
       "<style>.container { width:100% !important; }</style>"
      ],
      "text/plain": [
       "<IPython.core.display.HTML object>"
      ]
     },
     "metadata": {},
     "output_type": "display_data"
    }
   ],
   "source": [
    "from IPython.core.display import display, HTML\n",
    "display(HTML(\"<style>.container { width:100% !important; }</style>\"))"
   ]
  },
  {
   "cell_type": "code",
   "execution_count": 2,
   "id": "2356f498",
   "metadata": {
    "ExecuteTime": {
     "end_time": "2022-02-25T02:28:12.411596Z",
     "start_time": "2022-02-25T02:28:11.538895Z"
    }
   },
   "outputs": [],
   "source": [
    "import sys\n",
    "sys.path.append(\"../tianshou/examples/mujoco/\")\n",
    "from mujoco_ppo import test_ppo"
   ]
  },
  {
   "cell_type": "code",
   "execution_count": 7,
   "id": "416d21f0",
   "metadata": {
    "ExecuteTime": {
     "end_time": "2022-02-25T02:39:18.895644Z",
     "start_time": "2022-02-25T02:39:18.889590Z"
    }
   },
   "outputs": [],
   "source": [
    "class PPO_HalfCheetah:\n",
    "    task = \"HalfCheetah-v3\"\n",
    "    seed = 0\n",
    "    buffer_size = 4096\n",
    "    hidden_sizes = [64, 64]\n",
    "    lr = 3e-4\n",
    "    gamma = 0.99\n",
    "    epoch = 100\n",
    "    step_per_epoch = int(3e5)\n",
    "    step_per_collect = 2048\n",
    "    repeat_per_collect = 10\n",
    "    batch_size = 64\n",
    "    training_num = 64\n",
    "    test_num = 10\n",
    "    rew_norm = True # ppo special\n",
    "    vf_coef = 0.25 # in theory, \"vf-coef\" won't make any difference if using Adam Optimizer\n",
    "    ent_coef = 0 \n",
    "    gae_lambda = 0.95\n",
    "    bound_action_method = 'clip'\n",
    "    lr_decay = True\n",
    "    max_grad_norm = 0.5\n",
    "    eps_clip = 0.2\n",
    "    dual_clip = None\n",
    "    value_clip = 0\n",
    "    norm_adv = 0\n",
    "    recompute_adv = 1\n",
    "    logdir = \"../log/\"\n",
    "    render = 0\n",
    "    device = \"cuda\"\n",
    "    resume_path = None\n",
    "    watch = False\n",
    "\n",
    "class PPO_Swimmer(PPO_HalfCheetah):\n",
    "    task = \"Swimmer-v3\""
   ]
  },
  {
   "cell_type": "code",
   "execution_count": 8,
   "id": "ff0021cc",
   "metadata": {
    "ExecuteTime": {
     "end_time": "2022-02-25T12:15:53.793010Z",
     "start_time": "2022-02-25T02:39:19.605373Z"
    }
   },
   "outputs": [
    {
     "name": "stdout",
     "output_type": "stream",
     "text": [
      "Observations shape: (8,)\n",
      "Actions shape: (2,)\n",
      "Action range: -1.0 1.0\n"
     ]
    },
    {
     "name": "stderr",
     "output_type": "stream",
     "text": [
      "2022-02-24 21:39:25.060701: W tensorflow/stream_executor/platform/default/dso_loader.cc:64] Could not load dynamic library 'libcudart.so.11.0'; dlerror: libcudart.so.11.0: cannot open shared object file: No such file or directory; LD_LIBRARY_PATH: :/home/vincent/.mujoco/mujoco210/bin/:/home/vincent/.mujoco/mujoco200/bin/:/usr/lib/nvidia:/home/vincent/.mujoco/mujoco210/bin/:/home/vincent/.mujoco/mujoco200/bin/:/usr/lib/nvidia\n",
      "2022-02-24 21:39:25.060721: I tensorflow/stream_executor/cuda/cudart_stub.cc:29] Ignore above cudart dlerror if you do not have a GPU set up on your machine.\n",
      "Epoch #1: 301056it [03:16, 1531.11it/s, env_step=301056, len=1000, loss=0.019, loss/clip=0.018, loss/ent=0.588, loss/vf=0.004, n/ep=0, n/st=2048, rew=14.76]  \n"
     ]
    },
    {
     "name": "stdout",
     "output_type": "stream",
     "text": [
      "Epoch #1: test_reward: 18.218961 ± 2.802774, best_reward: 18.218961 ± 2.802774 in #1\n"
     ]
    },
    {
     "name": "stderr",
     "output_type": "stream",
     "text": [
      "Epoch #2: 301056it [03:19, 1508.04it/s, env_step=602112, len=1000, loss=0.011, loss/clip=0.011, loss/ent=-0.281, loss/vf=0.001, n/ep=0, n/st=2048, rew=29.75] \n"
     ]
    },
    {
     "name": "stdout",
     "output_type": "stream",
     "text": [
      "Epoch #2: test_reward: 27.725936 ± 8.785642, best_reward: 27.725936 ± 8.785642 in #2\n"
     ]
    },
    {
     "name": "stderr",
     "output_type": "stream",
     "text": [
      "Epoch #3: 301056it [03:19, 1511.75it/s, env_step=903168, len=1000, loss=-0.020, loss/clip=-0.020, loss/ent=-0.390, loss/vf=0.003, n/ep=0, n/st=2048, rew=40.60]\n"
     ]
    },
    {
     "name": "stdout",
     "output_type": "stream",
     "text": [
      "Epoch #3: test_reward: 21.795226 ± 5.441889, best_reward: 27.725936 ± 8.785642 in #2\n"
     ]
    },
    {
     "name": "stderr",
     "output_type": "stream",
     "text": [
      "Epoch #4: 301056it [03:19, 1511.24it/s, env_step=1204224, len=1000, loss=0.003, loss/clip=0.003, loss/ent=-0.659, loss/vf=0.000, n/ep=0, n/st=2048, rew=33.08]\n"
     ]
    },
    {
     "name": "stdout",
     "output_type": "stream",
     "text": [
      "Epoch #4: test_reward: 41.253615 ± 9.106719, best_reward: 41.253615 ± 9.106719 in #4\n"
     ]
    },
    {
     "name": "stderr",
     "output_type": "stream",
     "text": [
      "Epoch #5: 301056it [03:19, 1505.56it/s, env_step=1505280, len=1000, loss=0.002, loss/clip=0.002, loss/ent=-0.794, loss/vf=0.000, n/ep=0, n/st=2048, rew=48.84]  \n"
     ]
    },
    {
     "name": "stdout",
     "output_type": "stream",
     "text": [
      "Epoch #5: test_reward: 43.225710 ± 5.453689, best_reward: 43.225710 ± 5.453689 in #5\n"
     ]
    },
    {
     "name": "stderr",
     "output_type": "stream",
     "text": [
      "Epoch #6: 301056it [03:18, 1513.31it/s, env_step=1806336, len=1000, loss=0.012, loss/clip=0.012, loss/ent=-1.154, loss/vf=0.001, n/ep=0, n/st=2048, rew=54.76]\n"
     ]
    },
    {
     "name": "stdout",
     "output_type": "stream",
     "text": [
      "Epoch #6: test_reward: 58.557745 ± 3.726873, best_reward: 58.557745 ± 3.726873 in #6\n"
     ]
    },
    {
     "name": "stderr",
     "output_type": "stream",
     "text": [
      "Epoch #7: 301056it [03:18, 1514.06it/s, env_step=2107392, len=1000, loss=-0.003, loss/clip=-0.003, loss/ent=-1.676, loss/vf=0.000, n/ep=0, n/st=2048, rew=57.86]\n"
     ]
    },
    {
     "name": "stdout",
     "output_type": "stream",
     "text": [
      "Epoch #7: test_reward: 56.419824 ± 3.019121, best_reward: 58.557745 ± 3.726873 in #6\n"
     ]
    },
    {
     "name": "stderr",
     "output_type": "stream",
     "text": [
      "Epoch #8: 301056it [03:19, 1509.32it/s, env_step=2408448, len=1000, loss=0.002, loss/clip=0.002, loss/ent=-2.020, loss/vf=0.000, n/ep=0, n/st=2048, rew=57.47]\n"
     ]
    },
    {
     "name": "stdout",
     "output_type": "stream",
     "text": [
      "Epoch #8: test_reward: 57.697267 ± 3.049809, best_reward: 58.557745 ± 3.726873 in #6\n"
     ]
    },
    {
     "name": "stderr",
     "output_type": "stream",
     "text": [
      "Epoch #9: 301056it [03:50, 1304.12it/s, env_step=2709504, len=1000, loss=0.001, loss/clip=0.001, loss/ent=-1.970, loss/vf=0.000, n/ep=0, n/st=2048, rew=59.61]\n"
     ]
    },
    {
     "name": "stdout",
     "output_type": "stream",
     "text": [
      "Epoch #9: test_reward: 59.116967 ± 4.915614, best_reward: 59.116967 ± 4.915614 in #9\n"
     ]
    },
    {
     "name": "stderr",
     "output_type": "stream",
     "text": [
      "Epoch #10: 301056it [04:12, 1191.76it/s, env_step=3010560, len=1000, loss=-0.014, loss/clip=-0.015, loss/ent=-2.103, loss/vf=0.003, n/ep=0, n/st=2048, rew=60.95] \n"
     ]
    },
    {
     "name": "stdout",
     "output_type": "stream",
     "text": [
      "Epoch #10: test_reward: 62.929973 ± 3.821115, best_reward: 62.929973 ± 3.821115 in #10\n"
     ]
    },
    {
     "name": "stderr",
     "output_type": "stream",
     "text": [
      "Epoch #11: 301056it [04:48, 1043.09it/s, env_step=3311616, len=1000, loss=-0.001, loss/clip=-0.001, loss/ent=-2.093, loss/vf=0.000, n/ep=0, n/st=2048, rew=62.04]\n"
     ]
    },
    {
     "name": "stdout",
     "output_type": "stream",
     "text": [
      "Epoch #11: test_reward: 64.310071 ± 4.484164, best_reward: 64.310071 ± 4.484164 in #11\n"
     ]
    },
    {
     "name": "stderr",
     "output_type": "stream",
     "text": [
      "Epoch #12: 301056it [06:28, 775.05it/s, env_step=3612672, len=1000, loss=-0.000, loss/clip=-0.000, loss/ent=-2.179, loss/vf=0.000, n/ep=0, n/st=2048, rew=61.65]\n"
     ]
    },
    {
     "name": "stdout",
     "output_type": "stream",
     "text": [
      "Epoch #12: test_reward: 61.375561 ± 3.644210, best_reward: 64.310071 ± 4.484164 in #11\n"
     ]
    },
    {
     "name": "stderr",
     "output_type": "stream",
     "text": [
      "Epoch #13: 301056it [06:41, 750.27it/s, env_step=3913728, len=1000, loss=0.006, loss/clip=0.006, loss/ent=-2.350, loss/vf=0.000, n/ep=0, n/st=2048, rew=60.23]  \n"
     ]
    },
    {
     "name": "stdout",
     "output_type": "stream",
     "text": [
      "Epoch #13: test_reward: 61.371403 ± 2.067769, best_reward: 64.310071 ± 4.484164 in #11\n"
     ]
    },
    {
     "name": "stderr",
     "output_type": "stream",
     "text": [
      "Epoch #14: 301056it [06:41, 749.54it/s, env_step=4214784, len=1000, loss=0.001, loss/clip=0.001, loss/ent=-2.638, loss/vf=0.000, n/ep=0, n/st=2048, rew=61.94]\n"
     ]
    },
    {
     "name": "stdout",
     "output_type": "stream",
     "text": [
      "Epoch #14: test_reward: 62.357302 ± 3.626739, best_reward: 64.310071 ± 4.484164 in #11\n"
     ]
    },
    {
     "name": "stderr",
     "output_type": "stream",
     "text": [
      "Epoch #15: 301056it [06:39, 753.41it/s, env_step=4515840, len=1000, loss=-0.001, loss/clip=-0.001, loss/ent=-2.446, loss/vf=0.000, n/ep=0, n/st=2048, rew=62.38]\n"
     ]
    },
    {
     "name": "stdout",
     "output_type": "stream",
     "text": [
      "Epoch #15: test_reward: 59.593423 ± 3.950084, best_reward: 64.310071 ± 4.484164 in #11\n"
     ]
    },
    {
     "name": "stderr",
     "output_type": "stream",
     "text": [
      "Epoch #16: 301056it [06:42, 748.78it/s, env_step=4816896, len=1000, loss=-0.002, loss/clip=-0.002, loss/ent=-2.428, loss/vf=0.000, n/ep=0, n/st=2048, rew=53.69]\n"
     ]
    },
    {
     "name": "stdout",
     "output_type": "stream",
     "text": [
      "Epoch #16: test_reward: 41.798145 ± 30.728003, best_reward: 64.310071 ± 4.484164 in #11\n"
     ]
    },
    {
     "name": "stderr",
     "output_type": "stream",
     "text": [
      "Epoch #17: 301056it [06:41, 749.04it/s, env_step=5117952, len=1000, loss=-0.002, loss/clip=-0.002, loss/ent=-2.825, loss/vf=0.000, n/ep=0, n/st=2048, rew=42.52]\n"
     ]
    },
    {
     "name": "stdout",
     "output_type": "stream",
     "text": [
      "Epoch #17: test_reward: 46.161217 ± 23.548844, best_reward: 64.310071 ± 4.484164 in #11\n"
     ]
    },
    {
     "name": "stderr",
     "output_type": "stream",
     "text": [
      "Epoch #18: 301056it [06:43, 746.72it/s, env_step=5419008, len=1000, loss=-0.003, loss/clip=-0.003, loss/ent=-2.749, loss/vf=0.000, n/ep=0, n/st=2048, rew=50.31]\n"
     ]
    },
    {
     "name": "stdout",
     "output_type": "stream",
     "text": [
      "Epoch #18: test_reward: 47.724738 ± 26.228990, best_reward: 64.310071 ± 4.484164 in #11\n"
     ]
    },
    {
     "name": "stderr",
     "output_type": "stream",
     "text": [
      "Epoch #19: 301056it [06:44, 744.02it/s, env_step=5720064, len=1000, loss=0.012, loss/clip=0.012, loss/ent=-2.882, loss/vf=0.001, n/ep=0, n/st=2048, rew=52.33]  \n"
     ]
    },
    {
     "name": "stdout",
     "output_type": "stream",
     "text": [
      "Epoch #19: test_reward: 49.683347 ± 6.222118, best_reward: 64.310071 ± 4.484164 in #11\n"
     ]
    },
    {
     "name": "stderr",
     "output_type": "stream",
     "text": [
      "Epoch #20: 301056it [06:40, 751.91it/s, env_step=6021120, len=1000, loss=-0.035, loss/clip=-0.063, loss/ent=-2.695, loss/vf=0.116, n/ep=0, n/st=2048, rew=51.53]\n"
     ]
    },
    {
     "name": "stdout",
     "output_type": "stream",
     "text": [
      "Epoch #20: test_reward: 52.292623 ± 3.863910, best_reward: 64.310071 ± 4.484164 in #11\n"
     ]
    },
    {
     "name": "stderr",
     "output_type": "stream",
     "text": [
      "Epoch #21: 301056it [06:40, 751.80it/s, env_step=6322176, len=1000, loss=-0.001, loss/clip=-0.001, loss/ent=-2.673, loss/vf=0.000, n/ep=0, n/st=2048, rew=53.33]\n"
     ]
    },
    {
     "name": "stdout",
     "output_type": "stream",
     "text": [
      "Epoch #21: test_reward: 53.331585 ± 8.378282, best_reward: 64.310071 ± 4.484164 in #11\n"
     ]
    },
    {
     "name": "stderr",
     "output_type": "stream",
     "text": [
      "Epoch #22: 301056it [06:39, 753.91it/s, env_step=6623232, len=1000, loss=-0.001, loss/clip=-0.001, loss/ent=-2.653, loss/vf=0.000, n/ep=0, n/st=2048, rew=60.36]\n"
     ]
    },
    {
     "name": "stdout",
     "output_type": "stream",
     "text": [
      "Epoch #22: test_reward: 62.206959 ± 5.423088, best_reward: 64.310071 ± 4.484164 in #11\n"
     ]
    },
    {
     "name": "stderr",
     "output_type": "stream",
     "text": [
      "Epoch #23: 301056it [06:38, 755.11it/s, env_step=6924288, len=1000, loss=0.015, loss/clip=0.015, loss/ent=-2.628, loss/vf=0.001, n/ep=0, n/st=2048, rew=61.04]\n"
     ]
    },
    {
     "name": "stdout",
     "output_type": "stream",
     "text": [
      "Epoch #23: test_reward: 62.601649 ± 4.809967, best_reward: 64.310071 ± 4.484164 in #11\n"
     ]
    },
    {
     "name": "stderr",
     "output_type": "stream",
     "text": [
      "Epoch #24: 301056it [06:40, 750.94it/s, env_step=7225344, len=1000, loss=0.002, loss/clip=0.002, loss/ent=-2.785, loss/vf=0.000, n/ep=0, n/st=2048, rew=59.04]\n"
     ]
    },
    {
     "name": "stdout",
     "output_type": "stream",
     "text": [
      "Epoch #24: test_reward: 60.975976 ± 5.462420, best_reward: 64.310071 ± 4.484164 in #11\n"
     ]
    },
    {
     "name": "stderr",
     "output_type": "stream",
     "text": [
      "Epoch #25: 301056it [06:42, 748.75it/s, env_step=7526400, len=1000, loss=-0.000, loss/clip=-0.000, loss/ent=-2.843, loss/vf=0.000, n/ep=0, n/st=2048, rew=59.38]\n"
     ]
    },
    {
     "name": "stdout",
     "output_type": "stream",
     "text": [
      "Epoch #25: test_reward: 58.698636 ± 4.637175, best_reward: 64.310071 ± 4.484164 in #11\n"
     ]
    },
    {
     "name": "stderr",
     "output_type": "stream",
     "text": [
      "Epoch #26: 301056it [06:40, 751.32it/s, env_step=7827456, len=1000, loss=-0.001, loss/clip=-0.001, loss/ent=-2.626, loss/vf=0.000, n/ep=0, n/st=2048, rew=60.37]\n"
     ]
    },
    {
     "name": "stdout",
     "output_type": "stream",
     "text": [
      "Epoch #26: test_reward: 61.797155 ± 4.888820, best_reward: 64.310071 ± 4.484164 in #11\n"
     ]
    },
    {
     "name": "stderr",
     "output_type": "stream",
     "text": [
      "Epoch #27: 301056it [06:41, 749.18it/s, env_step=8128512, len=1000, loss=0.035, loss/clip=-0.015, loss/ent=-2.573, loss/vf=0.196, n/ep=64, n/st=2048, rew=62.79]\n"
     ]
    },
    {
     "name": "stdout",
     "output_type": "stream",
     "text": [
      "Epoch #27: test_reward: 62.820889 ± 3.307494, best_reward: 64.310071 ± 4.484164 in #11\n"
     ]
    },
    {
     "name": "stderr",
     "output_type": "stream",
     "text": [
      "Epoch #28: 301056it [06:41, 749.72it/s, env_step=8429568, len=1000, loss=-0.005, loss/clip=-0.005, loss/ent=-2.622, loss/vf=0.000, n/ep=0, n/st=2048, rew=62.00]\n"
     ]
    },
    {
     "name": "stdout",
     "output_type": "stream",
     "text": [
      "Epoch #28: test_reward: 61.757441 ± 2.371530, best_reward: 64.310071 ± 4.484164 in #11\n"
     ]
    },
    {
     "name": "stderr",
     "output_type": "stream",
     "text": [
      "Epoch #29: 301056it [06:39, 754.45it/s, env_step=8730624, len=1000, loss=-0.004, loss/clip=-0.004, loss/ent=-2.593, loss/vf=0.000, n/ep=0, n/st=2048, rew=56.37]\n"
     ]
    },
    {
     "name": "stdout",
     "output_type": "stream",
     "text": [
      "Epoch #29: test_reward: 23.847271 ± 37.387563, best_reward: 64.310071 ± 4.484164 in #11\n"
     ]
    },
    {
     "name": "stderr",
     "output_type": "stream",
     "text": [
      "Epoch #30: 301056it [06:37, 758.27it/s, env_step=9031680, len=1000, loss=-0.006, loss/clip=-0.009, loss/ent=-2.391, loss/vf=0.011, n/ep=0, n/st=2048, rew=44.97]\n"
     ]
    },
    {
     "name": "stdout",
     "output_type": "stream",
     "text": [
      "Epoch #30: test_reward: 55.565665 ± 22.559635, best_reward: 64.310071 ± 4.484164 in #11\n"
     ]
    },
    {
     "name": "stderr",
     "output_type": "stream",
     "text": [
      "Epoch #31: 301056it [06:35, 761.23it/s, env_step=9332736, len=1000, loss=-0.001, loss/clip=-0.001, loss/ent=-2.579, loss/vf=0.002, n/ep=0, n/st=2048, rew=61.94]\n"
     ]
    },
    {
     "name": "stdout",
     "output_type": "stream",
     "text": [
      "Epoch #31: test_reward: 62.696326 ± 3.018364, best_reward: 64.310071 ± 4.484164 in #11\n"
     ]
    },
    {
     "name": "stderr",
     "output_type": "stream",
     "text": [
      "Epoch #32: 301056it [06:37, 757.13it/s, env_step=9633792, len=1000, loss=0.004, loss/clip=0.004, loss/ent=-2.637, loss/vf=0.002, n/ep=0, n/st=2048, rew=66.60]\n"
     ]
    },
    {
     "name": "stdout",
     "output_type": "stream",
     "text": [
      "Epoch #32: test_reward: 66.684244 ± 6.889068, best_reward: 66.684244 ± 6.889068 in #32\n"
     ]
    },
    {
     "name": "stderr",
     "output_type": "stream",
     "text": [
      "Epoch #33: 301056it [06:39, 753.68it/s, env_step=9934848, len=1000, loss=-0.007, loss/clip=-0.011, loss/ent=-2.623, loss/vf=0.018, n/ep=0, n/st=2048, rew=67.90]\n"
     ]
    },
    {
     "name": "stdout",
     "output_type": "stream",
     "text": [
      "Epoch #33: test_reward: 67.401302 ± 10.802880, best_reward: 67.401302 ± 10.802880 in #33\n"
     ]
    },
    {
     "name": "stderr",
     "output_type": "stream",
     "text": [
      "Epoch #34: 301056it [06:10, 811.97it/s, env_step=10235904, len=1000, loss=-0.007, loss/clip=-0.009, loss/ent=-2.382, loss/vf=0.007, n/ep=0, n/st=2048, rew=66.53]\n"
     ]
    },
    {
     "name": "stdout",
     "output_type": "stream",
     "text": [
      "Epoch #34: test_reward: 73.114009 ± 3.773317, best_reward: 73.114009 ± 3.773317 in #34\n"
     ]
    },
    {
     "name": "stderr",
     "output_type": "stream",
     "text": [
      "Epoch #35: 301056it [06:06, 822.04it/s, env_step=10536960, len=1000, loss=0.010, loss/clip=0.009, loss/ent=-2.348, loss/vf=0.004, n/ep=0, n/st=2048, rew=74.22]\n"
     ]
    },
    {
     "name": "stdout",
     "output_type": "stream",
     "text": [
      "Epoch #35: test_reward: 79.943799 ± 6.767180, best_reward: 79.943799 ± 6.767180 in #35\n"
     ]
    },
    {
     "name": "stderr",
     "output_type": "stream",
     "text": [
      "Epoch #36: 301056it [06:05, 824.41it/s, env_step=10838016, len=1000, loss=-0.003, loss/clip=-0.003, loss/ent=-2.410, loss/vf=0.001, n/ep=0, n/st=2048, rew=77.66]\n"
     ]
    },
    {
     "name": "stdout",
     "output_type": "stream",
     "text": [
      "Epoch #36: test_reward: 79.602148 ± 5.880721, best_reward: 79.943799 ± 6.767180 in #35\n"
     ]
    },
    {
     "name": "stderr",
     "output_type": "stream",
     "text": [
      "Epoch #37: 301056it [06:06, 822.54it/s, env_step=11139072, len=1000, loss=-0.062, loss/clip=-0.066, loss/ent=-2.526, loss/vf=0.019, n/ep=0, n/st=2048, rew=81.70]\n"
     ]
    },
    {
     "name": "stdout",
     "output_type": "stream",
     "text": [
      "Epoch #37: test_reward: 76.369564 ± 7.171992, best_reward: 79.943799 ± 6.767180 in #35\n"
     ]
    },
    {
     "name": "stderr",
     "output_type": "stream",
     "text": [
      "Epoch #38: 301056it [06:04, 826.91it/s, env_step=11440128, len=1000, loss=-0.002, loss/clip=-0.002, loss/ent=-2.436, loss/vf=0.001, n/ep=0, n/st=2048, rew=81.57]\n"
     ]
    },
    {
     "name": "stdout",
     "output_type": "stream",
     "text": [
      "Epoch #38: test_reward: 82.611423 ± 6.168170, best_reward: 82.611423 ± 6.168170 in #38\n"
     ]
    },
    {
     "name": "stderr",
     "output_type": "stream",
     "text": [
      "Epoch #39: 301056it [06:06, 821.97it/s, env_step=11741184, len=1000, loss=-0.001, loss/clip=-0.001, loss/ent=-2.508, loss/vf=0.001, n/ep=0, n/st=2048, rew=82.15]\n"
     ]
    },
    {
     "name": "stdout",
     "output_type": "stream",
     "text": [
      "Epoch #39: test_reward: 85.830115 ± 5.239637, best_reward: 85.830115 ± 5.239637 in #39\n"
     ]
    },
    {
     "name": "stderr",
     "output_type": "stream",
     "text": [
      "Epoch #40: 301056it [06:05, 823.91it/s, env_step=12042240, len=1000, loss=-0.018, loss/clip=-0.019, loss/ent=-2.712, loss/vf=0.003, n/ep=0, n/st=2048, rew=82.14]\n"
     ]
    },
    {
     "name": "stdout",
     "output_type": "stream",
     "text": [
      "Epoch #40: test_reward: 84.094032 ± 4.559310, best_reward: 85.830115 ± 5.239637 in #39\n"
     ]
    },
    {
     "name": "stderr",
     "output_type": "stream",
     "text": [
      "Epoch #41: 301056it [06:03, 827.81it/s, env_step=12343296, len=1000, loss=0.001, loss/clip=0.001, loss/ent=-2.895, loss/vf=0.000, n/ep=0, n/st=2048, rew=86.37]  \n"
     ]
    },
    {
     "name": "stdout",
     "output_type": "stream",
     "text": [
      "Epoch #41: test_reward: 88.864130 ± 3.720401, best_reward: 88.864130 ± 3.720401 in #41\n"
     ]
    },
    {
     "name": "stderr",
     "output_type": "stream",
     "text": [
      "Epoch #42: 301056it [06:05, 823.78it/s, env_step=12644352, len=1000, loss=-0.000, loss/clip=-0.000, loss/ent=-3.132, loss/vf=0.000, n/ep=0, n/st=2048, rew=89.00]\n"
     ]
    },
    {
     "name": "stdout",
     "output_type": "stream",
     "text": [
      "Epoch #42: test_reward: 89.138515 ± 4.087393, best_reward: 89.138515 ± 4.087393 in #42\n"
     ]
    },
    {
     "name": "stderr",
     "output_type": "stream",
     "text": [
      "Epoch #43: 301056it [06:00, 835.65it/s, env_step=12945408, len=1000, loss=-0.020, loss/clip=-0.021, loss/ent=-3.058, loss/vf=0.004, n/ep=0, n/st=2048, rew=87.83]\n"
     ]
    },
    {
     "name": "stdout",
     "output_type": "stream",
     "text": [
      "Epoch #43: test_reward: 85.626016 ± 14.637360, best_reward: 89.138515 ± 4.087393 in #42\n"
     ]
    },
    {
     "name": "stderr",
     "output_type": "stream",
     "text": [
      "Epoch #44: 301056it [06:06, 820.66it/s, env_step=13246464, len=1000, loss=-0.019, loss/clip=-0.019, loss/ent=-3.432, loss/vf=0.001, n/ep=0, n/st=2048, rew=85.21]\n"
     ]
    },
    {
     "name": "stdout",
     "output_type": "stream",
     "text": [
      "Epoch #44: test_reward: 86.859008 ± 3.414328, best_reward: 89.138515 ± 4.087393 in #42\n"
     ]
    },
    {
     "name": "stderr",
     "output_type": "stream",
     "text": [
      "Epoch #45: 301056it [06:07, 819.26it/s, env_step=13547520, len=1000, loss=-0.023, loss/clip=-0.024, loss/ent=-3.404, loss/vf=0.002, n/ep=0, n/st=2048, rew=85.69]\n"
     ]
    },
    {
     "name": "stdout",
     "output_type": "stream",
     "text": [
      "Epoch #45: test_reward: 90.204236 ± 8.347519, best_reward: 90.204236 ± 8.347519 in #45\n"
     ]
    },
    {
     "name": "stderr",
     "output_type": "stream",
     "text": [
      "Epoch #46: 301056it [06:05, 822.83it/s, env_step=13848576, len=1000, loss=0.009, loss/clip=0.009, loss/ent=-3.225, loss/vf=0.001, n/ep=0, n/st=2048, rew=91.54]\n"
     ]
    },
    {
     "name": "stdout",
     "output_type": "stream",
     "text": [
      "Epoch #46: test_reward: 91.400000 ± 7.366791, best_reward: 91.400000 ± 7.366791 in #46\n"
     ]
    },
    {
     "name": "stderr",
     "output_type": "stream",
     "text": [
      "Epoch #47: 301056it [06:07, 820.08it/s, env_step=14149632, len=1000, loss=0.043, loss/clip=0.035, loss/ent=-3.396, loss/vf=0.033, n/ep=0, n/st=2048, rew=93.26]  \n"
     ]
    },
    {
     "name": "stdout",
     "output_type": "stream",
     "text": [
      "Epoch #47: test_reward: 93.313143 ± 2.020953, best_reward: 93.313143 ± 2.020953 in #47\n"
     ]
    },
    {
     "name": "stderr",
     "output_type": "stream",
     "text": [
      "Epoch #48: 301056it [06:08, 817.83it/s, env_step=14450688, len=1000, loss=0.007, loss/clip=0.007, loss/ent=-3.467, loss/vf=0.000, n/ep=0, n/st=2048, rew=96.95]  \n"
     ]
    },
    {
     "name": "stdout",
     "output_type": "stream",
     "text": [
      "Epoch #48: test_reward: 87.802018 ± 18.679828, best_reward: 93.313143 ± 2.020953 in #47\n"
     ]
    },
    {
     "name": "stderr",
     "output_type": "stream",
     "text": [
      "Epoch #49: 301056it [05:52, 854.38it/s, env_step=14751744, len=1000, loss=-0.005, loss/clip=-0.005, loss/ent=-3.301, loss/vf=0.000, n/ep=0, n/st=2048, rew=90.32]\n"
     ]
    },
    {
     "name": "stdout",
     "output_type": "stream",
     "text": [
      "Epoch #49: test_reward: 83.145538 ± 25.730211, best_reward: 93.313143 ± 2.020953 in #47\n"
     ]
    },
    {
     "name": "stderr",
     "output_type": "stream",
     "text": [
      "Epoch #50: 301056it [05:43, 877.65it/s, env_step=15052800, len=1000, loss=0.001, loss/clip=-0.000, loss/ent=-3.443, loss/vf=0.005, n/ep=0, n/st=2048, rew=95.64] \n"
     ]
    },
    {
     "name": "stdout",
     "output_type": "stream",
     "text": [
      "Epoch #50: test_reward: 97.730636 ± 5.776929, best_reward: 97.730636 ± 5.776929 in #50\n"
     ]
    },
    {
     "name": "stderr",
     "output_type": "stream",
     "text": [
      "Epoch #51: 301056it [05:44, 875.14it/s, env_step=15353856, len=1000, loss=-0.005, loss/clip=-0.005, loss/ent=-3.428, loss/vf=0.000, n/ep=0, n/st=2048, rew=93.30]\n"
     ]
    },
    {
     "name": "stdout",
     "output_type": "stream",
     "text": [
      "Epoch #51: test_reward: 92.778192 ± 9.163520, best_reward: 97.730636 ± 5.776929 in #50\n"
     ]
    },
    {
     "name": "stderr",
     "output_type": "stream",
     "text": [
      "Epoch #52: 301056it [05:42, 879.38it/s, env_step=15654912, len=1000, loss=0.010, loss/clip=0.010, loss/ent=-3.419, loss/vf=0.001, n/ep=0, n/st=2048, rew=98.15]\n"
     ]
    },
    {
     "name": "stdout",
     "output_type": "stream",
     "text": [
      "Epoch #52: test_reward: 98.723075 ± 6.011021, best_reward: 98.723075 ± 6.011021 in #52\n"
     ]
    },
    {
     "name": "stderr",
     "output_type": "stream",
     "text": [
      "Epoch #53: 301056it [06:03, 828.70it/s, env_step=15955968, len=1000, loss=-0.005, loss/clip=-0.006, loss/ent=-3.507, loss/vf=0.001, n/ep=0, n/st=2048, rew=102.38]\n"
     ]
    },
    {
     "name": "stdout",
     "output_type": "stream",
     "text": [
      "Epoch #53: test_reward: 102.044942 ± 9.569999, best_reward: 102.044942 ± 9.569999 in #53\n"
     ]
    },
    {
     "name": "stderr",
     "output_type": "stream",
     "text": [
      "Epoch #54: 301056it [06:02, 830.87it/s, env_step=16257024, len=1000, loss=-0.002, loss/clip=-0.015, loss/ent=-3.345, loss/vf=0.054, n/ep=64, n/st=2048, rew=103.73]\n"
     ]
    },
    {
     "name": "stdout",
     "output_type": "stream",
     "text": [
      "Epoch #54: test_reward: 100.478476 ± 7.684835, best_reward: 102.044942 ± 9.569999 in #53\n"
     ]
    },
    {
     "name": "stderr",
     "output_type": "stream",
     "text": [
      "Epoch #55: 301056it [05:57, 841.23it/s, env_step=16558080, len=1000, loss=-0.001, loss/clip=-0.001, loss/ent=-3.396, loss/vf=0.000, n/ep=0, n/st=2048, rew=103.78]\n"
     ]
    },
    {
     "name": "stdout",
     "output_type": "stream",
     "text": [
      "Epoch #55: test_reward: 106.321895 ± 5.854286, best_reward: 106.321895 ± 5.854286 in #55\n"
     ]
    },
    {
     "name": "stderr",
     "output_type": "stream",
     "text": [
      "Epoch #56: 301056it [06:02, 829.50it/s, env_step=16859136, len=1000, loss=0.001, loss/clip=0.001, loss/ent=-3.268, loss/vf=0.001, n/ep=0, n/st=2048, rew=104.08]  \n"
     ]
    },
    {
     "name": "stdout",
     "output_type": "stream",
     "text": [
      "Epoch #56: test_reward: 102.878424 ± 4.515920, best_reward: 106.321895 ± 5.854286 in #55\n"
     ]
    },
    {
     "name": "stderr",
     "output_type": "stream",
     "text": [
      "Epoch #57: 301056it [06:07, 820.06it/s, env_step=17160192, len=1000, loss=0.001, loss/clip=0.001, loss/ent=-3.362, loss/vf=0.001, n/ep=0, n/st=2048, rew=104.31]\n"
     ]
    },
    {
     "name": "stdout",
     "output_type": "stream",
     "text": [
      "Epoch #57: test_reward: 104.250225 ± 3.602517, best_reward: 106.321895 ± 5.854286 in #55\n"
     ]
    },
    {
     "name": "stderr",
     "output_type": "stream",
     "text": [
      "Epoch #58: 301056it [06:07, 819.21it/s, env_step=17461248, len=1000, loss=-0.002, loss/clip=-0.002, loss/ent=-3.370, loss/vf=0.000, n/ep=0, n/st=2048, rew=102.79]\n"
     ]
    },
    {
     "name": "stdout",
     "output_type": "stream",
     "text": [
      "Epoch #58: test_reward: 105.892127 ± 7.204572, best_reward: 106.321895 ± 5.854286 in #55\n"
     ]
    },
    {
     "name": "stderr",
     "output_type": "stream",
     "text": [
      "Epoch #59: 301056it [06:02, 830.08it/s, env_step=17762304, len=1000, loss=0.014, loss/clip=0.013, loss/ent=-3.264, loss/vf=0.002, n/ep=0, n/st=2048, rew=102.28]  \n"
     ]
    },
    {
     "name": "stdout",
     "output_type": "stream",
     "text": [
      "Epoch #59: test_reward: 104.879401 ± 7.074591, best_reward: 106.321895 ± 5.854286 in #55\n"
     ]
    },
    {
     "name": "stderr",
     "output_type": "stream",
     "text": [
      "Epoch #60: 301056it [05:58, 840.40it/s, env_step=18063360, len=1000, loss=0.004, loss/clip=0.004, loss/ent=-3.195, loss/vf=0.000, n/ep=0, n/st=2048, rew=104.46]\n"
     ]
    },
    {
     "name": "stdout",
     "output_type": "stream",
     "text": [
      "Epoch #60: test_reward: 107.891588 ± 3.722780, best_reward: 107.891588 ± 3.722780 in #60\n"
     ]
    },
    {
     "name": "stderr",
     "output_type": "stream",
     "text": [
      "Epoch #61: 301056it [06:04, 826.79it/s, env_step=18364416, len=1000, loss=0.002, loss/clip=0.001, loss/ent=-3.356, loss/vf=0.001, n/ep=0, n/st=2048, rew=104.80]\n"
     ]
    },
    {
     "name": "stdout",
     "output_type": "stream",
     "text": [
      "Epoch #61: test_reward: 104.457215 ± 5.625939, best_reward: 107.891588 ± 3.722780 in #60\n"
     ]
    },
    {
     "name": "stderr",
     "output_type": "stream",
     "text": [
      "Epoch #62: 301056it [05:59, 837.79it/s, env_step=18665472, len=1000, loss=0.002, loss/clip=0.002, loss/ent=-3.426, loss/vf=0.001, n/ep=0, n/st=2048, rew=104.92]\n"
     ]
    },
    {
     "name": "stdout",
     "output_type": "stream",
     "text": [
      "Epoch #62: test_reward: 106.740816 ± 4.543986, best_reward: 107.891588 ± 3.722780 in #60\n"
     ]
    },
    {
     "name": "stderr",
     "output_type": "stream",
     "text": [
      "Epoch #63: 301056it [05:41, 881.25it/s, env_step=18966528, len=1000, loss=0.008, loss/clip=0.007, loss/ent=-3.458, loss/vf=0.004, n/ep=0, n/st=2048, rew=106.36]  \n"
     ]
    },
    {
     "name": "stdout",
     "output_type": "stream",
     "text": [
      "Epoch #63: test_reward: 109.283452 ± 5.161284, best_reward: 109.283452 ± 5.161284 in #63\n"
     ]
    },
    {
     "name": "stderr",
     "output_type": "stream",
     "text": [
      "Epoch #64: 301056it [05:42, 878.96it/s, env_step=19267584, len=1000, loss=-0.014, loss/clip=-0.015, loss/ent=-3.679, loss/vf=0.006, n/ep=0, n/st=2048, rew=105.96]\n"
     ]
    },
    {
     "name": "stdout",
     "output_type": "stream",
     "text": [
      "Epoch #64: test_reward: 104.398136 ± 12.193206, best_reward: 109.283452 ± 5.161284 in #63\n"
     ]
    },
    {
     "name": "stderr",
     "output_type": "stream",
     "text": [
      "Epoch #65: 301056it [05:39, 886.89it/s, env_step=19568640, len=1000, loss=0.001, loss/clip=0.001, loss/ent=-3.819, loss/vf=0.001, n/ep=0, n/st=2048, rew=107.10]  \n"
     ]
    },
    {
     "name": "stdout",
     "output_type": "stream",
     "text": [
      "Epoch #65: test_reward: 109.583148 ± 7.356431, best_reward: 109.583148 ± 7.356431 in #65\n"
     ]
    },
    {
     "name": "stderr",
     "output_type": "stream",
     "text": [
      "Epoch #66: 301056it [05:41, 881.00it/s, env_step=19869696, len=1000, loss=0.006, loss/clip=0.006, loss/ent=-3.857, loss/vf=0.002, n/ep=0, n/st=2048, rew=107.41]  \n"
     ]
    },
    {
     "name": "stdout",
     "output_type": "stream",
     "text": [
      "Epoch #66: test_reward: 101.046599 ± 25.238201, best_reward: 109.583148 ± 7.356431 in #65\n"
     ]
    },
    {
     "name": "stderr",
     "output_type": "stream",
     "text": [
      "Epoch #67: 301056it [05:33, 901.54it/s, env_step=20170752, len=1000, loss=0.017, loss/clip=0.015, loss/ent=-4.014, loss/vf=0.005, n/ep=0, n/st=2048, rew=103.49]\n"
     ]
    },
    {
     "name": "stdout",
     "output_type": "stream",
     "text": [
      "Epoch #67: test_reward: 109.748090 ± 4.907811, best_reward: 109.748090 ± 4.907811 in #67\n"
     ]
    },
    {
     "name": "stderr",
     "output_type": "stream",
     "text": [
      "Epoch #68: 301056it [05:39, 886.77it/s, env_step=20471808, len=1000, loss=-0.003, loss/clip=-0.003, loss/ent=-4.042, loss/vf=0.000, n/ep=0, n/st=2048, rew=107.27]\n"
     ]
    },
    {
     "name": "stdout",
     "output_type": "stream",
     "text": [
      "Epoch #68: test_reward: 108.385192 ± 8.462177, best_reward: 109.748090 ± 4.907811 in #67\n"
     ]
    },
    {
     "name": "stderr",
     "output_type": "stream",
     "text": [
      "Epoch #69: 301056it [05:40, 884.19it/s, env_step=20772864, len=1000, loss=-0.002, loss/clip=-0.002, loss/ent=-3.872, loss/vf=0.000, n/ep=0, n/st=2048, rew=103.27]\n"
     ]
    },
    {
     "name": "stdout",
     "output_type": "stream",
     "text": [
      "Epoch #69: test_reward: 107.691210 ± 7.246864, best_reward: 109.748090 ± 4.907811 in #67\n"
     ]
    },
    {
     "name": "stderr",
     "output_type": "stream",
     "text": [
      "Epoch #70: 301056it [05:41, 881.12it/s, env_step=21073920, len=1000, loss=0.009, loss/clip=0.009, loss/ent=-3.949, loss/vf=0.001, n/ep=0, n/st=2048, rew=104.74]\n"
     ]
    },
    {
     "name": "stdout",
     "output_type": "stream",
     "text": [
      "Epoch #70: test_reward: 104.030381 ± 8.270240, best_reward: 109.748090 ± 4.907811 in #67\n"
     ]
    },
    {
     "name": "stderr",
     "output_type": "stream",
     "text": [
      "Epoch #71: 301056it [05:36, 894.76it/s, env_step=21374976, len=1000, loss=-0.001, loss/clip=-0.001, loss/ent=-4.023, loss/vf=0.000, n/ep=0, n/st=2048, rew=107.28]\n"
     ]
    },
    {
     "name": "stdout",
     "output_type": "stream",
     "text": [
      "Epoch #71: test_reward: 109.043082 ± 7.794764, best_reward: 109.748090 ± 4.907811 in #67\n"
     ]
    },
    {
     "name": "stderr",
     "output_type": "stream",
     "text": [
      "Epoch #72: 301056it [05:41, 881.81it/s, env_step=21676032, len=1000, loss=0.005, loss/clip=0.005, loss/ent=-4.237, loss/vf=0.000, n/ep=0, n/st=2048, rew=103.57]\n"
     ]
    },
    {
     "name": "stdout",
     "output_type": "stream",
     "text": [
      "Epoch #72: test_reward: 107.499661 ± 7.176806, best_reward: 109.748090 ± 4.907811 in #67\n"
     ]
    },
    {
     "name": "stderr",
     "output_type": "stream",
     "text": [
      "Epoch #73: 301056it [05:41, 880.45it/s, env_step=21977088, len=1000, loss=-0.011, loss/clip=-0.011, loss/ent=-4.165, loss/vf=0.000, n/ep=0, n/st=2048, rew=103.86]\n"
     ]
    },
    {
     "name": "stdout",
     "output_type": "stream",
     "text": [
      "Epoch #73: test_reward: 106.843597 ± 11.134292, best_reward: 109.748090 ± 4.907811 in #67\n"
     ]
    },
    {
     "name": "stderr",
     "output_type": "stream",
     "text": [
      "Epoch #74: 301056it [05:37, 892.95it/s, env_step=22278144, len=1000, loss=-0.027, loss/clip=-0.047, loss/ent=-4.252, loss/vf=0.082, n/ep=0, n/st=2048, rew=103.60]\n"
     ]
    },
    {
     "name": "stdout",
     "output_type": "stream",
     "text": [
      "Epoch #74: test_reward: 101.403877 ± 10.456733, best_reward: 109.748090 ± 4.907811 in #67\n"
     ]
    },
    {
     "name": "stderr",
     "output_type": "stream",
     "text": [
      "Epoch #75: 301056it [05:41, 882.84it/s, env_step=22579200, len=1000, loss=0.003, loss/clip=0.003, loss/ent=-4.431, loss/vf=0.000, n/ep=0, n/st=2048, rew=103.80]  \n"
     ]
    },
    {
     "name": "stdout",
     "output_type": "stream",
     "text": [
      "Epoch #75: test_reward: 105.241631 ± 10.542761, best_reward: 109.748090 ± 4.907811 in #67\n"
     ]
    },
    {
     "name": "stderr",
     "output_type": "stream",
     "text": [
      "Epoch #76: 301056it [05:38, 889.78it/s, env_step=22880256, len=1000, loss=0.001, loss/clip=0.001, loss/ent=-4.565, loss/vf=0.000, n/ep=0, n/st=2048, rew=99.46]  \n"
     ]
    },
    {
     "name": "stdout",
     "output_type": "stream",
     "text": [
      "Epoch #76: test_reward: 105.049874 ± 5.802988, best_reward: 109.748090 ± 4.907811 in #67\n"
     ]
    },
    {
     "name": "stderr",
     "output_type": "stream",
     "text": [
      "Epoch #77: 301056it [05:37, 891.44it/s, env_step=23181312, len=1000, loss=-0.010, loss/clip=-0.012, loss/ent=-4.572, loss/vf=0.007, n/ep=0, n/st=2048, rew=103.18]\n"
     ]
    },
    {
     "name": "stdout",
     "output_type": "stream",
     "text": [
      "Epoch #77: test_reward: 106.929741 ± 4.284845, best_reward: 109.748090 ± 4.907811 in #67\n"
     ]
    },
    {
     "name": "stderr",
     "output_type": "stream",
     "text": [
      "Epoch #78: 301056it [05:38, 888.30it/s, env_step=23482368, len=1000, loss=-0.001, loss/clip=-0.001, loss/ent=-4.584, loss/vf=0.000, n/ep=0, n/st=2048, rew=102.35]\n"
     ]
    },
    {
     "name": "stdout",
     "output_type": "stream",
     "text": [
      "Epoch #78: test_reward: 107.929202 ± 5.431521, best_reward: 109.748090 ± 4.907811 in #67\n"
     ]
    },
    {
     "name": "stderr",
     "output_type": "stream",
     "text": [
      "Epoch #79: 301056it [05:41, 881.35it/s, env_step=23783424, len=1000, loss=-0.000, loss/clip=-0.000, loss/ent=-4.737, loss/vf=0.000, n/ep=0, n/st=2048, rew=104.53]\n"
     ]
    },
    {
     "name": "stdout",
     "output_type": "stream",
     "text": [
      "Epoch #79: test_reward: 98.746953 ± 18.795575, best_reward: 109.748090 ± 4.907811 in #67\n"
     ]
    },
    {
     "name": "stderr",
     "output_type": "stream",
     "text": [
      "Epoch #80: 301056it [05:38, 888.84it/s, env_step=24084480, len=1000, loss=-0.012, loss/clip=-0.012, loss/ent=-4.808, loss/vf=0.001, n/ep=0, n/st=2048, rew=104.35]\n"
     ]
    },
    {
     "name": "stdout",
     "output_type": "stream",
     "text": [
      "Epoch #80: test_reward: 110.428941 ± 8.805329, best_reward: 110.428941 ± 8.805329 in #80\n"
     ]
    },
    {
     "name": "stderr",
     "output_type": "stream",
     "text": [
      "Epoch #81: 301056it [05:35, 896.96it/s, env_step=24385536, len=1000, loss=0.007, loss/clip=-0.001, loss/ent=-4.806, loss/vf=0.032, n/ep=64, n/st=2048, rew=110.06]\n"
     ]
    },
    {
     "name": "stdout",
     "output_type": "stream",
     "text": [
      "Epoch #81: test_reward: 112.709142 ± 9.098892, best_reward: 112.709142 ± 9.098892 in #81\n"
     ]
    },
    {
     "name": "stderr",
     "output_type": "stream",
     "text": [
      "Epoch #82: 301056it [05:42, 880.21it/s, env_step=24686592, len=1000, loss=-0.001, loss/clip=-0.001, loss/ent=-4.769, loss/vf=0.000, n/ep=0, n/st=2048, rew=108.74]\n"
     ]
    },
    {
     "name": "stdout",
     "output_type": "stream",
     "text": [
      "Epoch #82: test_reward: 112.491087 ± 8.590612, best_reward: 112.709142 ± 9.098892 in #81\n"
     ]
    },
    {
     "name": "stderr",
     "output_type": "stream",
     "text": [
      "Epoch #83: 301056it [05:39, 887.82it/s, env_step=24987648, len=1000, loss=-0.001, loss/clip=-0.001, loss/ent=-4.758, loss/vf=0.000, n/ep=0, n/st=2048, rew=111.43]\n"
     ]
    },
    {
     "name": "stdout",
     "output_type": "stream",
     "text": [
      "Epoch #83: test_reward: 111.974808 ± 7.725083, best_reward: 112.709142 ± 9.098892 in #81\n"
     ]
    },
    {
     "name": "stderr",
     "output_type": "stream",
     "text": [
      "Epoch #84: 301056it [05:36, 894.34it/s, env_step=25288704, len=1000, loss=-0.003, loss/clip=-0.004, loss/ent=-4.761, loss/vf=0.002, n/ep=0, n/st=2048, rew=108.85]\n"
     ]
    },
    {
     "name": "stdout",
     "output_type": "stream",
     "text": [
      "Epoch #84: test_reward: 109.348514 ± 5.135014, best_reward: 112.709142 ± 9.098892 in #81\n"
     ]
    },
    {
     "name": "stderr",
     "output_type": "stream",
     "text": [
      "Epoch #85: 301056it [05:39, 885.72it/s, env_step=25589760, len=1000, loss=-0.002, loss/clip=-0.002, loss/ent=-4.814, loss/vf=0.000, n/ep=0, n/st=2048, rew=106.93]\n"
     ]
    },
    {
     "name": "stdout",
     "output_type": "stream",
     "text": [
      "Epoch #85: test_reward: 108.507013 ± 6.988928, best_reward: 112.709142 ± 9.098892 in #81\n"
     ]
    },
    {
     "name": "stderr",
     "output_type": "stream",
     "text": [
      "Epoch #86: 301056it [05:38, 888.41it/s, env_step=25890816, len=1000, loss=0.002, loss/clip=0.002, loss/ent=-4.855, loss/vf=0.000, n/ep=0, n/st=2048, rew=100.92]\n"
     ]
    },
    {
     "name": "stdout",
     "output_type": "stream",
     "text": [
      "Epoch #86: test_reward: 103.922954 ± 18.467829, best_reward: 112.709142 ± 9.098892 in #81\n"
     ]
    },
    {
     "name": "stderr",
     "output_type": "stream",
     "text": [
      "Epoch #87: 301056it [05:38, 890.37it/s, env_step=26191872, len=1000, loss=0.019, loss/clip=0.018, loss/ent=-4.912, loss/vf=0.001, n/ep=0, n/st=2048, rew=107.48]\n"
     ]
    },
    {
     "name": "stdout",
     "output_type": "stream",
     "text": [
      "Epoch #87: test_reward: 107.303745 ± 11.300236, best_reward: 112.709142 ± 9.098892 in #81\n"
     ]
    },
    {
     "name": "stderr",
     "output_type": "stream",
     "text": [
      "Epoch #88: 301056it [05:38, 888.17it/s, env_step=26492928, len=1000, loss=0.002, loss/clip=0.002, loss/ent=-5.018, loss/vf=0.000, n/ep=0, n/st=2048, rew=108.92]  \n"
     ]
    },
    {
     "name": "stdout",
     "output_type": "stream",
     "text": [
      "Epoch #88: test_reward: 110.104217 ± 12.789807, best_reward: 112.709142 ± 9.098892 in #81\n"
     ]
    },
    {
     "name": "stderr",
     "output_type": "stream",
     "text": [
      "Epoch #89: 301056it [05:37, 892.78it/s, env_step=26793984, len=1000, loss=0.000, loss/clip=0.000, loss/ent=-5.131, loss/vf=0.000, n/ep=0, n/st=2048, rew=103.61]  \n"
     ]
    },
    {
     "name": "stdout",
     "output_type": "stream",
     "text": [
      "Epoch #89: test_reward: 104.771832 ± 13.482460, best_reward: 112.709142 ± 9.098892 in #81\n"
     ]
    },
    {
     "name": "stderr",
     "output_type": "stream",
     "text": [
      "Epoch #90: 301056it [05:41, 882.65it/s, env_step=27095040, len=1000, loss=-0.013, loss/clip=-0.013, loss/ent=-5.216, loss/vf=0.002, n/ep=0, n/st=2048, rew=106.32]\n"
     ]
    },
    {
     "name": "stdout",
     "output_type": "stream",
     "text": [
      "Epoch #90: test_reward: 108.122253 ± 10.444652, best_reward: 112.709142 ± 9.098892 in #81\n"
     ]
    },
    {
     "name": "stderr",
     "output_type": "stream",
     "text": [
      "Epoch #91: 301056it [05:34, 899.77it/s, env_step=27396096, len=1000, loss=0.044, loss/clip=0.001, loss/ent=-5.300, loss/vf=0.172, n/ep=0, n/st=2048, rew=107.86] \n"
     ]
    },
    {
     "name": "stdout",
     "output_type": "stream",
     "text": [
      "Epoch #91: test_reward: 107.684677 ± 3.776541, best_reward: 112.709142 ± 9.098892 in #81\n"
     ]
    },
    {
     "name": "stderr",
     "output_type": "stream",
     "text": [
      "Epoch #92: 301056it [05:35, 898.46it/s, env_step=27697152, len=1000, loss=-0.001, loss/clip=-0.001, loss/ent=-5.390, loss/vf=0.000, n/ep=0, n/st=2048, rew=105.95]\n"
     ]
    },
    {
     "name": "stdout",
     "output_type": "stream",
     "text": [
      "Epoch #92: test_reward: 110.371861 ± 11.649983, best_reward: 112.709142 ± 9.098892 in #81\n"
     ]
    },
    {
     "name": "stderr",
     "output_type": "stream",
     "text": [
      "Epoch #93: 301056it [04:51, 1032.84it/s, env_step=27998208, len=1000, loss=-0.005, loss/clip=-0.005, loss/ent=-5.474, loss/vf=0.000, n/ep=0, n/st=2048, rew=107.96]\n"
     ]
    },
    {
     "name": "stdout",
     "output_type": "stream",
     "text": [
      "Epoch #93: test_reward: 107.236682 ± 7.751834, best_reward: 112.709142 ± 9.098892 in #81\n"
     ]
    },
    {
     "name": "stderr",
     "output_type": "stream",
     "text": [
      "Epoch #94: 301056it [04:54, 1023.00it/s, env_step=28299264, len=1000, loss=-0.011, loss/clip=-0.012, loss/ent=-5.557, loss/vf=0.005, n/ep=0, n/st=2048, rew=110.81]\n"
     ]
    },
    {
     "name": "stdout",
     "output_type": "stream",
     "text": [
      "Epoch #94: test_reward: 107.647113 ± 6.106834, best_reward: 112.709142 ± 9.098892 in #81\n"
     ]
    },
    {
     "name": "stderr",
     "output_type": "stream",
     "text": [
      "Epoch #95: 301056it [04:55, 1017.14it/s, env_step=28600320, len=1000, loss=-0.002, loss/clip=-0.002, loss/ent=-5.654, loss/vf=0.000, n/ep=0, n/st=2048, rew=105.05]\n"
     ]
    },
    {
     "name": "stdout",
     "output_type": "stream",
     "text": [
      "Epoch #95: test_reward: 111.085540 ± 12.009972, best_reward: 112.709142 ± 9.098892 in #81\n"
     ]
    },
    {
     "name": "stderr",
     "output_type": "stream",
     "text": [
      "Epoch #96: 301056it [04:51, 1032.87it/s, env_step=28901376, len=1000, loss=0.002, loss/clip=0.002, loss/ent=-5.722, loss/vf=0.000, n/ep=0, n/st=2048, rew=107.69]  \n"
     ]
    },
    {
     "name": "stdout",
     "output_type": "stream",
     "text": [
      "Epoch #96: test_reward: 113.696401 ± 4.147623, best_reward: 113.696401 ± 4.147623 in #96\n"
     ]
    },
    {
     "name": "stderr",
     "output_type": "stream",
     "text": [
      "Epoch #97: 301056it [04:51, 1031.68it/s, env_step=29202432, len=1000, loss=-0.005, loss/clip=-0.006, loss/ent=-5.773, loss/vf=0.003, n/ep=0, n/st=2048, rew=111.19]\n"
     ]
    },
    {
     "name": "stdout",
     "output_type": "stream",
     "text": [
      "Epoch #97: test_reward: 106.293102 ± 13.291292, best_reward: 113.696401 ± 4.147623 in #96\n"
     ]
    },
    {
     "name": "stderr",
     "output_type": "stream",
     "text": [
      "Epoch #98: 301056it [04:52, 1030.21it/s, env_step=29503488, len=1000, loss=-0.001, loss/clip=-0.001, loss/ent=-5.814, loss/vf=0.000, n/ep=0, n/st=2048, rew=106.47]\n"
     ]
    },
    {
     "name": "stdout",
     "output_type": "stream",
     "text": [
      "Epoch #98: test_reward: 112.892392 ± 8.967300, best_reward: 113.696401 ± 4.147623 in #96\n"
     ]
    },
    {
     "name": "stderr",
     "output_type": "stream",
     "text": [
      "Epoch #99: 301056it [04:55, 1017.24it/s, env_step=29804544, len=1000, loss=-0.002, loss/clip=-0.002, loss/ent=-5.842, loss/vf=0.000, n/ep=0, n/st=2048, rew=110.52]\n"
     ]
    },
    {
     "name": "stdout",
     "output_type": "stream",
     "text": [
      "Epoch #99: test_reward: 107.327302 ± 11.696327, best_reward: 113.696401 ± 4.147623 in #96\n"
     ]
    },
    {
     "name": "stderr",
     "output_type": "stream",
     "text": [
      "Epoch #100: 301056it [04:52, 1030.62it/s, env_step=30105600, len=1000, loss=0.007, loss/clip=0.007, loss/ent=-5.847, loss/vf=0.000, n/ep=0, n/st=2048, rew=109.44]\n"
     ]
    },
    {
     "name": "stdout",
     "output_type": "stream",
     "text": [
      "Epoch #100: test_reward: 111.911494 ± 4.243608, best_reward: 113.696401 ± 4.147623 in #96\n",
      "{'best_result': '113.70 ± 4.15',\n",
      " 'best_reward': 113.69640140105268,\n",
      " 'duration': '34584.76s',\n",
      " 'test_episode': 1010,\n",
      " 'test_speed': '2470.26 step/s',\n",
      " 'test_step': 1010000,\n",
      " 'test_time': '408.86s',\n",
      " 'train_episode': 30080,\n",
      " 'train_speed': '880.90 step/s',\n",
      " 'train_step': 30105600,\n",
      " 'train_time/collector': '7696.13s',\n",
      " 'train_time/model': '26479.76s'}\n",
      "Final reward: 111.69210640579277, length: 1000.0\n"
     ]
    }
   ],
   "source": [
    "args = PPO_Swimmer()\n",
    "test_ppo(args)"
   ]
  },
  {
   "cell_type": "code",
   "execution_count": null,
   "id": "eff22528",
   "metadata": {},
   "outputs": [],
   "source": [
    "class PPO_Hopper(PPO_HalfCheetah):\n",
    "    task = \"Hopper-v3\"\n",
    "args = PPO_Hopper()\n",
    "test_ppo(args)"
   ]
  },
  {
   "cell_type": "code",
   "execution_count": null,
   "id": "19e306aa",
   "metadata": {},
   "outputs": [],
   "source": [
    "class PPO_Walker(PPO_HalfCheetah):\n",
    "    task = \"Walker2d-v3\"\n",
    "args = PPO_Walker()\n",
    "test_ppo(args)"
   ]
  }
 ],
 "metadata": {
  "kernelspec": {
   "display_name": "base",
   "language": "python",
   "name": "base"
  },
  "language_info": {
   "codemirror_mode": {
    "name": "ipython",
    "version": 3
   },
   "file_extension": ".py",
   "mimetype": "text/x-python",
   "name": "python",
   "nbconvert_exporter": "python",
   "pygments_lexer": "ipython3",
   "version": "3.8.10"
  },
  "toc": {
   "base_numbering": 1,
   "nav_menu": {},
   "number_sections": true,
   "sideBar": true,
   "skip_h1_title": false,
   "title_cell": "Table of Contents",
   "title_sidebar": "Contents",
   "toc_cell": false,
   "toc_position": {},
   "toc_section_display": true,
   "toc_window_display": false
  }
 },
 "nbformat": 4,
 "nbformat_minor": 5
}

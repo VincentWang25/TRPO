{
 "cells": [
  {
   "cell_type": "code",
   "execution_count": 1,
   "id": "f31a6bce",
   "metadata": {
    "ExecuteTime": {
     "end_time": "2022-02-25T02:28:10.891788Z",
     "start_time": "2022-02-25T02:28:10.880656Z"
    }
   },
   "outputs": [
    {
     "data": {
      "text/html": [
       "<style>.container { width:100% !important; }</style>"
      ],
      "text/plain": [
       "<IPython.core.display.HTML object>"
      ]
     },
     "metadata": {},
     "output_type": "display_data"
    }
   ],
   "source": [
    "from IPython.core.display import display, HTML\n",
    "display(HTML(\"<style>.container { width:100% !important; }</style>\"))"
   ]
  },
  {
   "cell_type": "code",
   "execution_count": 2,
   "id": "2cd27b6f",
   "metadata": {
    "ExecuteTime": {
     "end_time": "2022-02-25T02:28:12.411596Z",
     "start_time": "2022-02-25T02:28:11.538895Z"
    }
   },
   "outputs": [],
   "source": [
    "import sys\n",
    "sys.path.append(\"../tianshou/examples/mujoco/\")\n",
    "from mujoco_ppo import test_ppo"
   ]
  },
  {
   "cell_type": "code",
   "execution_count": 7,
   "id": "6b3a325b",
   "metadata": {
    "ExecuteTime": {
     "end_time": "2022-02-25T02:39:18.895644Z",
     "start_time": "2022-02-25T02:39:18.889590Z"
    }
   },
   "outputs": [],
   "source": [
    "class PPO_HalfCheetah:\n",
    "    task = \"HalfCheetah-v3\"\n",
    "    seed = 0\n",
    "    buffer_size = 4096\n",
    "    hidden_sizes = [64, 64]\n",
    "    lr = 3e-4\n",
    "    gamma = 0.99\n",
    "    epoch = 100\n",
    "    step_per_epoch = int(3e5)\n",
    "    step_per_collect = 2048\n",
    "    repeat_per_collect = 10\n",
    "    batch_size = 64\n",
    "    training_num = 64\n",
    "    test_num = 10\n",
    "    rew_norm = True # ppo special\n",
    "    vf_coef = 0.25 # in theory, \"vf-coef\" won't make any difference if using Adam Optimizer\n",
    "    ent_coef = 0 \n",
    "    gae_lambda = 0.95\n",
    "    bound_action_method = 'clip'\n",
    "    lr_decay = True\n",
    "    max_grad_norm = 0.5\n",
    "    eps_clip = 0.2\n",
    "    dual_clip = None\n",
    "    value_clip = 0\n",
    "    norm_adv = 0\n",
    "    recompute_adv = 1\n",
    "    logdir = \"../log/\"\n",
    "    render = 0\n",
    "    device = \"cuda\"\n",
    "    resume_path = None\n",
    "    watch = False\n",
    "\n",
    "class PPO_Swimmer(PPO_HalfCheetah):\n",
    "    task = \"Swimmer-v3\""
   ]
  },
  {
   "cell_type": "code",
   "execution_count": null,
   "id": "e6744af4",
   "metadata": {
    "ExecuteTime": {
     "start_time": "2022-02-25T02:39:19.570Z"
    }
   },
   "outputs": [
    {
     "name": "stdout",
     "output_type": "stream",
     "text": [
      "Observations shape: (8,)\n",
      "Actions shape: (2,)\n",
      "Action range: -1.0 1.0\n"
     ]
    },
    {
     "name": "stderr",
     "output_type": "stream",
     "text": [
      "2022-02-24 21:39:25.060701: W tensorflow/stream_executor/platform/default/dso_loader.cc:64] Could not load dynamic library 'libcudart.so.11.0'; dlerror: libcudart.so.11.0: cannot open shared object file: No such file or directory; LD_LIBRARY_PATH: :/home/vincent/.mujoco/mujoco210/bin/:/home/vincent/.mujoco/mujoco200/bin/:/usr/lib/nvidia:/home/vincent/.mujoco/mujoco210/bin/:/home/vincent/.mujoco/mujoco200/bin/:/usr/lib/nvidia\n",
      "2022-02-24 21:39:25.060721: I tensorflow/stream_executor/cuda/cudart_stub.cc:29] Ignore above cudart dlerror if you do not have a GPU set up on your machine.\n",
      "Epoch #1: 301056it [03:16, 1531.11it/s, env_step=301056, len=1000, loss=0.019, loss/clip=0.018, loss/ent=0.588, loss/vf=0.004, n/ep=0, n/st=2048, rew=14.76]  \n"
     ]
    },
    {
     "name": "stdout",
     "output_type": "stream",
     "text": [
      "Epoch #1: test_reward: 18.218961 ± 2.802774, best_reward: 18.218961 ± 2.802774 in #1\n"
     ]
    },
    {
     "name": "stderr",
     "output_type": "stream",
     "text": [
      "Epoch #2: 301056it [03:19, 1508.04it/s, env_step=602112, len=1000, loss=0.011, loss/clip=0.011, loss/ent=-0.281, loss/vf=0.001, n/ep=0, n/st=2048, rew=29.75] \n"
     ]
    },
    {
     "name": "stdout",
     "output_type": "stream",
     "text": [
      "Epoch #2: test_reward: 27.725936 ± 8.785642, best_reward: 27.725936 ± 8.785642 in #2\n"
     ]
    },
    {
     "name": "stderr",
     "output_type": "stream",
     "text": [
      "Epoch #3: 301056it [03:19, 1511.75it/s, env_step=903168, len=1000, loss=-0.020, loss/clip=-0.020, loss/ent=-0.390, loss/vf=0.003, n/ep=0, n/st=2048, rew=40.60]\n"
     ]
    },
    {
     "name": "stdout",
     "output_type": "stream",
     "text": [
      "Epoch #3: test_reward: 21.795226 ± 5.441889, best_reward: 27.725936 ± 8.785642 in #2\n"
     ]
    },
    {
     "name": "stderr",
     "output_type": "stream",
     "text": [
      "Epoch #4: 301056it [03:19, 1511.24it/s, env_step=1204224, len=1000, loss=0.003, loss/clip=0.003, loss/ent=-0.659, loss/vf=0.000, n/ep=0, n/st=2048, rew=33.08]\n"
     ]
    },
    {
     "name": "stdout",
     "output_type": "stream",
     "text": [
      "Epoch #4: test_reward: 41.253615 ± 9.106719, best_reward: 41.253615 ± 9.106719 in #4\n"
     ]
    },
    {
     "name": "stderr",
     "output_type": "stream",
     "text": [
      "Epoch #5: 301056it [03:19, 1505.56it/s, env_step=1505280, len=1000, loss=0.002, loss/clip=0.002, loss/ent=-0.794, loss/vf=0.000, n/ep=0, n/st=2048, rew=48.84]  \n"
     ]
    },
    {
     "name": "stdout",
     "output_type": "stream",
     "text": [
      "Epoch #5: test_reward: 43.225710 ± 5.453689, best_reward: 43.225710 ± 5.453689 in #5\n"
     ]
    },
    {
     "name": "stderr",
     "output_type": "stream",
     "text": [
      "Epoch #6: 301056it [03:18, 1513.31it/s, env_step=1806336, len=1000, loss=0.012, loss/clip=0.012, loss/ent=-1.154, loss/vf=0.001, n/ep=0, n/st=2048, rew=54.76]\n"
     ]
    },
    {
     "name": "stdout",
     "output_type": "stream",
     "text": [
      "Epoch #6: test_reward: 58.557745 ± 3.726873, best_reward: 58.557745 ± 3.726873 in #6\n"
     ]
    },
    {
     "name": "stderr",
     "output_type": "stream",
     "text": [
      "Epoch #7: 301056it [03:18, 1514.06it/s, env_step=2107392, len=1000, loss=-0.003, loss/clip=-0.003, loss/ent=-1.676, loss/vf=0.000, n/ep=0, n/st=2048, rew=57.86]\n"
     ]
    },
    {
     "name": "stdout",
     "output_type": "stream",
     "text": [
      "Epoch #7: test_reward: 56.419824 ± 3.019121, best_reward: 58.557745 ± 3.726873 in #6\n"
     ]
    },
    {
     "name": "stderr",
     "output_type": "stream",
     "text": [
      "Epoch #8: 301056it [03:19, 1509.32it/s, env_step=2408448, len=1000, loss=0.002, loss/clip=0.002, loss/ent=-2.020, loss/vf=0.000, n/ep=0, n/st=2048, rew=57.47]\n"
     ]
    },
    {
     "name": "stdout",
     "output_type": "stream",
     "text": [
      "Epoch #8: test_reward: 57.697267 ± 3.049809, best_reward: 58.557745 ± 3.726873 in #6\n"
     ]
    },
    {
     "name": "stderr",
     "output_type": "stream",
     "text": [
      "Epoch #9: 301056it [03:50, 1304.12it/s, env_step=2709504, len=1000, loss=0.001, loss/clip=0.001, loss/ent=-1.970, loss/vf=0.000, n/ep=0, n/st=2048, rew=59.61]\n"
     ]
    },
    {
     "name": "stdout",
     "output_type": "stream",
     "text": [
      "Epoch #9: test_reward: 59.116967 ± 4.915614, best_reward: 59.116967 ± 4.915614 in #9\n"
     ]
    },
    {
     "name": "stderr",
     "output_type": "stream",
     "text": [
      "Epoch #10: 301056it [04:12, 1191.76it/s, env_step=3010560, len=1000, loss=-0.014, loss/clip=-0.015, loss/ent=-2.103, loss/vf=0.003, n/ep=0, n/st=2048, rew=60.95] \n"
     ]
    },
    {
     "name": "stdout",
     "output_type": "stream",
     "text": [
      "Epoch #10: test_reward: 62.929973 ± 3.821115, best_reward: 62.929973 ± 3.821115 in #10\n"
     ]
    },
    {
     "name": "stderr",
     "output_type": "stream",
     "text": [
      "Epoch #11: 301056it [04:48, 1043.09it/s, env_step=3311616, len=1000, loss=-0.001, loss/clip=-0.001, loss/ent=-2.093, loss/vf=0.000, n/ep=0, n/st=2048, rew=62.04]\n"
     ]
    },
    {
     "name": "stdout",
     "output_type": "stream",
     "text": [
      "Epoch #11: test_reward: 64.310071 ± 4.484164, best_reward: 64.310071 ± 4.484164 in #11\n"
     ]
    },
    {
     "name": "stderr",
     "output_type": "stream",
     "text": [
      "Epoch #12:  41%|4| 122880/300000 [02:27<04:05, 720.87it/s, env_step=3432448, len=1000, loss=0.000, loss/clip=0.000, loss/ent=-2.123, loss/vf=0.000, n/ep=0, n/"
     ]
    }
   ],
   "source": [
    "args = PPO_Swimmer()\n",
    "test_ppo(args)"
   ]
  },
  {
   "cell_type": "code",
   "execution_count": null,
   "id": "0addf6af",
   "metadata": {},
   "outputs": [],
   "source": [
    "class PPO_Hopper(PPO_HalfCheetah):\n",
    "    task = \"Hopper-v3\"\n",
    "args = PPO_Hopper()\n",
    "test_ppo(args)"
   ]
  },
  {
   "cell_type": "code",
   "execution_count": null,
   "id": "4d4ca714",
   "metadata": {},
   "outputs": [],
   "source": [
    "class PPO_Walker(PPO_HalfCheetah):\n",
    "    task = \"Walker2d-v3\"\n",
    "args = PPO_Walker()\n",
    "test_ppo(args)"
   ]
  }
 ],
 "metadata": {
  "kernelspec": {
   "display_name": "base",
   "language": "python",
   "name": "base"
  },
  "language_info": {
   "codemirror_mode": {
    "name": "ipython",
    "version": 3
   },
   "file_extension": ".py",
   "mimetype": "text/x-python",
   "name": "python",
   "nbconvert_exporter": "python",
   "pygments_lexer": "ipython3",
   "version": "3.8.10"
  },
  "toc": {
   "base_numbering": 1,
   "nav_menu": {},
   "number_sections": true,
   "sideBar": true,
   "skip_h1_title": false,
   "title_cell": "Table of Contents",
   "title_sidebar": "Contents",
   "toc_cell": false,
   "toc_position": {},
   "toc_section_display": true,
   "toc_window_display": false
  }
 },
 "nbformat": 4,
 "nbformat_minor": 5
}
